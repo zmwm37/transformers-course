{
 "cells": [
  {
   "cell_type": "markdown",
   "metadata": {},
   "source": [
    "## Understanding pipeline()"
   ]
  },
  {
   "cell_type": "code",
   "execution_count": null,
   "metadata": {},
   "outputs": [],
   "source": [
    "from transformers import pipeline\n",
    "from transformers import AutoTokenizer\n",
    "\n",
    "\n",
    "# provide sample inputs for sentiment analysis\n",
    "test_sentences =     [\n",
    "        \"If my dog was any cuter I would die.\",\n",
    "        \"My dog is the cutest dog in the entire world!\",\n",
    "        \"My dog is so annoying when she misbehaves.\",\n",
    "    ]\n",
    "classifier = pipeline(\"sentiment-analysis\")\n",
    "classifier(test_sentences)"
   ]
  },
  {
   "cell_type": "markdown",
   "metadata": {},
   "source": [
    "The `pipeline()` function consists of a tokenizing step, a modeling step, and post-processing step. \n",
    "We can replicate the process of the `pipeline`  function by first tokenizing the input sentences."
   ]
  },
  {
   "cell_type": "code",
   "execution_count": null,
   "metadata": {},
   "outputs": [],
   "source": [
    "\n",
    "# specify model parameters\n",
    "checkpoint = \"distilbert-base-uncased-finetuned-sst-2-english\"\n",
    "tokenizer = AutoTokenizer.from_pretrained(checkpoint)\n",
    "\n",
    "inputs = tokenizer(test_sentences, padding=True, truncation=True, return_tensors=\"pt\")\n",
    "print(inputs)"
   ]
  },
  {
   "cell_type": "code",
   "execution_count": null,
   "metadata": {},
   "outputs": [],
   "source": []
  }
 ],
 "metadata": {
  "language_info": {
   "name": "python"
  },
  "orig_nbformat": 4
 },
 "nbformat": 4,
 "nbformat_minor": 2
}
